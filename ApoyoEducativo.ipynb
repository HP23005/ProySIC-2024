{
 "cells": [
  {
   "cell_type": "code",
   "execution_count": 179,
   "id": "650e817f-ba6f-4d24-83de-f10166530b66",
   "metadata": {},
   "outputs": [
    {
     "name": "stdout",
     "output_type": "stream",
     "text": [
      "2020: Matriculados = 314128.0, Graduados = 22169\n",
      "\n",
      "2021: Matriculados = 198864, Graduados = 28538\n",
      "\n",
      "2022: Matriculados = 201426.0, Graduados = 29852\n",
      "\n",
      "2023: Matriculados = 200598.0, Graduados = 53920.0\n",
      "\n",
      "Diferencia de graduados entre 2020 y 2021: 6369\n",
      "\n",
      "Diferencia de graduados entre 2021 y 2022: 1314\n",
      "\n",
      "Diferencia de graduados entre 2022 y 2023: 24068.0\n",
      "\n"
     ]
    }
   ],
   "source": [
    "import pandas as pd\n",
    "\n",
    "# Cargar los archivos CSV para matricula y graduados de cada año\n",
    "matricula_2020 = pd.read_csv(\"Matricula-2020.csv\", skiprows=6)\n",
    "graduados_2020 = pd.read_csv(\"Graduados-2020.csv\", skiprows=6)\n",
    "\n",
    "matricula_2021 = pd.read_csv(\"Matricula-2021.csv\", skiprows=5)\n",
    "graduados_2021 = pd.read_csv(\"Graduados-2021.csv\", skiprows=5)\n",
    "\n",
    "matricula_2022 = pd.read_csv(\"Matricula-2022.csv\", skiprows=5)\n",
    "graduados_2022 = pd.read_csv(\"Graduados-2022.csv\", skiprows=7)\n",
    "\n",
    "matricula_2023 = pd.read_csv(\"Matricula-2023.csv\", skiprows=5)\n",
    "graduados_2023 = pd.read_csv(\"Graduados-2023.csv\", skiprows=7)\n",
    "\n",
    "# Convertir las columnas 'Total' y 'TOTAL' a valores numéricos, manejando errores\n",
    "matricula_2020['Total'] = pd.to_numeric(matricula_2020['Total'], errors='coerce')\n",
    "graduados_2020['Total'] = pd.to_numeric(graduados_2020['Total'], errors='coerce')\n",
    "\n",
    "matricula_2021['TOTAL'] = pd.to_numeric(matricula_2021['TOTAL'], errors='coerce')\n",
    "graduados_2021['TOTAL'] = pd.to_numeric(graduados_2021['TOTAL'], errors='coerce')\n",
    "\n",
    "matricula_2022['TOTAL'] = pd.to_numeric(matricula_2022['TOTAL'], errors='coerce')\n",
    "graduados_2022['TOTAL'] = pd.to_numeric(graduados_2022['TOTAL'], errors='coerce')\n",
    "\n",
    "matricula_2023['TOTAL'] = pd.to_numeric(matricula_2023['TOTAL'], errors='coerce')\n",
    "graduados_2023['TOTAL'] = pd.to_numeric(graduados_2023['TOTAL'], errors='coerce')\n",
    "\n",
    "# Calcular el total de matriculados y graduados para cada año\n",
    "total_matriculados_2020 = matricula_2020[\"Total\"].sum()\n",
    "total_graduados_2020 = graduados_2020[\"Total\"].sum()\n",
    "\n",
    "total_matriculados_2021 = matricula_2021[\"TOTAL\"].sum()\n",
    "total_graduados_2021 = graduados_2021[\"TOTAL\"].sum()\n",
    "\n",
    "total_matriculados_2022 = matricula_2022[\"TOTAL\"].sum()\n",
    "total_graduados_2022 = graduados_2022[\"TOTAL\"].sum()\n",
    "\n",
    "total_matriculados_2023 = matricula_2023[\"TOTAL\"].sum()\n",
    "total_graduados_2023 = graduados_2023[\"TOTAL\"].sum()\n",
    "\n",
    "# Calcular la diferencia de graduados entre años consecutivos\n",
    "diferencia_graduados1 = total_graduados_2021 - total_graduados_2020\n",
    "diferencia_graduados2 = total_graduados_2022 - total_graduados_2021\n",
    "diferencia_graduados3 = total_graduados_2023 - total_graduados_2022\n",
    "\n",
    "# Mostrar los resultados\n",
    "print(f\"2020: Matriculados = {total_matriculados_2020}, Graduados = {total_graduados_2020}\\n\")\n",
    "print(f\"2021: Matriculados = {total_matriculados_2021}, Graduados = {total_graduados_2021}\\n\")\n",
    "print(f\"2022: Matriculados = {total_matriculados_2022}, Graduados = {total_graduados_2022}\\n\")\n",
    "print(f\"2023: Matriculados = {total_matriculados_2023}, Graduados = {total_graduados_2023}\\n\")\n",
    "\n",
    "# Imprimir las diferencias de graduados entre años consecutivos\n",
    "print(f\"Diferencia de graduados entre 2020 y 2021: {diferencia_graduados1}\\n\")\n",
    "\n",
    "print(f\"Diferencia de graduados entre 2021 y 2022: {diferencia_graduados2}\\n\")\n",
    "\n",
    "print(f\"Diferencia de graduados entre 2022 y 2023: {diferencia_graduados3}\\n\")"
   ]
  },
  {
   "cell_type": "code",
   "execution_count": 181,
   "id": "1e9fd7f9-2850-415c-8229-11ec0694b21a",
   "metadata": {},
   "outputs": [
    {
     "name": "stdout",
     "output_type": "stream",
     "text": [
      "Estadísticas descriptivas del DataFrame Matricula-2020:\n",
      "         Masculino     Femenino        Total\n",
      "count  2167.000000  2161.000000  2138.000000\n",
      "mean     74.253807    85.551596   146.926099\n",
      "std     110.112262   128.448005   181.850824\n",
      "min       0.000000     0.000000     0.000000\n",
      "25%      10.000000     9.000000    25.000000\n",
      "50%      31.000000    34.000000    71.000000\n",
      "75%      92.500000   109.000000   204.750000\n",
      "max     870.000000   974.000000   980.000000\n"
     ]
    }
   ],
   "source": [
    "# Convertir las columnas 'Masculino' y 'Femenino' a valores numéricos, manejando errores\n",
    "matricula_2020[\"Masculino\"] = pd.to_numeric(matricula_2020[\"Masculino\"], errors='coerce')\n",
    "matricula_2020[\"Femenino\"] = pd.to_numeric(matricula_2020[\"Femenino\"], errors='coerce')\n",
    "\n",
    "# Mostrar estadísticas descriptivas del DataFrame 'Matricula-2020'\n",
    "print(\"Estadísticas descriptivas del DataFrame Matricula-2020:\")\n",
    "# Mostrar estadísticas descriptivas de las columnas 'Masculino', 'Femenino' y 'Total'\n",
    "print(matricula_2020[[\"Masculino\", \"Femenino\", \"Total\"]].describe())"
   ]
  },
  {
   "cell_type": "code",
   "execution_count": 183,
   "id": "3cf1d369-37f6-48f7-b6ee-d2b092a3e9f9",
   "metadata": {},
   "outputs": [
    {
     "name": "stdout",
     "output_type": "stream",
     "text": [
      "Estadísticas descriptivas del DataFrame Graduados-2020:\n",
      "         Masculino     Femenino        Total\n",
      "count  1089.000000  1089.000000  1089.000000\n",
      "mean      9.071625    11.285583    20.357208\n",
      "std      19.356049    19.602253    34.029643\n",
      "min       0.000000     0.000000     0.000000\n",
      "25%       0.000000     0.000000     0.000000\n",
      "50%       4.000000     4.000000     9.000000\n",
      "75%      11.000000    13.000000    27.000000\n",
      "max     369.000000   189.000000   558.000000\n"
     ]
    }
   ],
   "source": [
    "# Mostrar estadísticas descriptivas del DataFrame 'Graduados-2020'\n",
    "print(\"Estadísticas descriptivas del DataFrame Graduados-2020:\")\n",
    "# Seleccionar las columnas 'Masculino', 'Femenino' y 'Total' para generar el resumen estadístico\n",
    "print(graduados_2020[[\"Masculino\", \"Femenino\", \"Total\"]].describe())"
   ]
  },
  {
   "cell_type": "code",
   "execution_count": 185,
   "id": "afb00f7c-fbb1-4d5f-bd95-d8af710e0c87",
   "metadata": {},
   "outputs": [
    {
     "name": "stdout",
     "output_type": "stream",
     "text": [
      "Estadísticas descriptivas del DataFrame Matricula-2021:\n",
      "         MASCULINO     FEMENINO        TOTAL\n",
      "count  1239.000000  1239.000000  1239.000000\n",
      "mean     71.989508    88.514124   160.503632\n",
      "std     134.859883   177.843848   292.973464\n",
      "min       0.000000     0.000000     0.000000\n",
      "25%       4.000000     3.000000    12.000000\n",
      "50%      23.000000    24.000000    57.000000\n",
      "75%      80.000000    97.000000   183.000000\n",
      "max    1316.000000  1759.000000  2897.000000\n"
     ]
    }
   ],
   "source": [
    "# Mostrar estadísticas descriptivas del DataFrame 'Matricula-2021'\n",
    "print(\"Estadísticas descriptivas del DataFrame Matricula-2021:\")\n",
    "# Seleccionar las columnas 'Masculino', 'Femenino' y 'Total' para generar el resumen estadístico\n",
    "print(matricula_2021[[\"MASCULINO\", \"FEMENINO\", \"TOTAL\"]].describe())"
   ]
  },
  {
   "cell_type": "code",
   "execution_count": 187,
   "id": "10026140-05a1-4684-80bc-a7fd59e51bb2",
   "metadata": {},
   "outputs": [
    {
     "name": "stdout",
     "output_type": "stream",
     "text": [
      "Estadísticas descriptivas del DataFrame Graduados-2021:\n",
      "         MASCULINO     FEMENINO        TOTAL\n",
      "count  1266.000000  1266.000000  1266.000000\n",
      "mean     10.382306    12.159558    22.541864\n",
      "std      21.302693    23.961032    40.943616\n",
      "min       0.000000     0.000000     0.000000\n",
      "25%       0.000000     0.000000     0.000000\n",
      "50%       3.000000     4.000000     8.000000\n",
      "75%      11.000000    14.000000    27.000000\n",
      "max     235.000000   342.000000   577.000000\n"
     ]
    }
   ],
   "source": [
    "# Mostrar estadísticas descriptivas del DataFrame 'Graduados-2021'\n",
    "print(\"Estadísticas descriptivas del DataFrame Graduados-2021:\")\n",
    "# Seleccionar las columnas 'Masculino', 'Femenino' y 'Total' para generar el resumen estadístico\n",
    "print(graduados_2021[[\"MASCULINO\", \"FEMENINO\", \"TOTAL\"]].describe())"
   ]
  },
  {
   "cell_type": "code",
   "execution_count": 189,
   "id": "a178bf7a-0e83-480f-97bf-8a800208318f",
   "metadata": {},
   "outputs": [
    {
     "name": "stdout",
     "output_type": "stream",
     "text": [
      "Estadísticas descriptivas del DataFrame Matricula-2022:\n",
      "         MASCULINO     FEMENINO        TOTAL\n",
      "count  1219.000000  1219.000000  1219.000000\n",
      "mean     72.559475    92.679245   165.238720\n",
      "std     133.400001   184.650683   298.016075\n",
      "min       0.000000     0.000000     0.000000\n",
      "25%       5.000000     5.000000    14.000000\n",
      "50%      24.000000    28.000000    60.000000\n",
      "75%      80.000000    96.000000   189.000000\n",
      "max    1241.000000  1929.000000  3085.000000\n"
     ]
    }
   ],
   "source": [
    "# Mostrar estadísticas descriptivas del DataFrame 'Matricula-2022'\n",
    "print(\"Estadísticas descriptivas del DataFrame Matricula-2022:\")\n",
    "# Seleccionar las columnas 'Masculino', 'Femenino' y 'Total' para generar el resumen estadístico\n",
    "print(matricula_2022[[\"MASCULINO\", \"FEMENINO\", \"TOTAL\"]].describe())"
   ]
  },
  {
   "cell_type": "code",
   "execution_count": 191,
   "id": "e6f9fc71-a22f-4438-a65a-c60099ae2f33",
   "metadata": {},
   "outputs": [
    {
     "name": "stdout",
     "output_type": "stream",
     "text": [
      "Estadísticas descriptivas del DataFrame Graduados-2022:\n",
      "         MASCULINO     FEMENINO        TOTAL\n",
      "count  1230.000000  1230.000000  1230.000000\n",
      "mean     10.597561    13.672358    24.269919\n",
      "std      19.108014    25.358567    39.517970\n",
      "min       0.000000     0.000000     0.000000\n",
      "25%       0.000000     0.000000     0.000000\n",
      "50%       4.000000     5.000000    11.000000\n",
      "75%      12.000000    15.000000    30.000000\n",
      "max     218.000000   240.000000   403.000000\n"
     ]
    }
   ],
   "source": [
    "# Mostrar estadísticas descriptivas del DataFrame 'Graduados-2022'\n",
    "print(\"Estadísticas descriptivas del DataFrame Graduados-2022:\")\n",
    "# Seleccionar las columnas 'Masculino', 'Femenino' y 'Total' para generar el resumen estadístico\n",
    "print(graduados_2022[[\"MASCULINO\", \"FEMENINO\", \"TOTAL\"]].describe())"
   ]
  },
  {
   "cell_type": "code",
   "execution_count": 193,
   "id": "134795fc-8c7a-4259-856c-fb82809163ed",
   "metadata": {},
   "outputs": [
    {
     "name": "stdout",
     "output_type": "stream",
     "text": [
      "Estadísticas descriptivas del DataFrame Matricula-2023:\n",
      "         MASCULINO     FEMENINO        TOTAL\n",
      "count  1230.000000  1230.000000  1230.000000\n",
      "mean     71.599187    91.488618   163.087805\n",
      "std     129.481897   181.837778   290.126120\n",
      "min       0.000000     0.000000     0.000000\n",
      "25%       5.000000     5.000000    15.000000\n",
      "50%      25.000000    28.000000    61.500000\n",
      "75%      82.750000    92.000000   190.000000\n",
      "max    1144.000000  1870.000000  2950.000000\n"
     ]
    }
   ],
   "source": [
    "# Mostrar estadísticas descriptivas del DataFrame 'Matricula-2023'\n",
    "print(\"Estadísticas descriptivas del DataFrame Matricula-2023:\")\n",
    "# Seleccionar las columnas 'Masculino', 'Femenino' y 'Total' para generar el resumen estadístico\n",
    "print(matricula_2023[[\"MASCULINO\", \"FEMENINO\", \"TOTAL\"]].describe())"
   ]
  },
  {
   "cell_type": "code",
   "execution_count": 195,
   "id": "dc0e7259-783d-47d0-ac6b-7d74e4aff844",
   "metadata": {},
   "outputs": [
    {
     "name": "stdout",
     "output_type": "stream",
     "text": [
      "Estadísticas descriptivas del DataFrame Graduados-2023:\n",
      "        MASCULINO    FEMENINO         TOTAL\n",
      "count  880.000000  880.000000    881.000000\n",
      "mean    14.157955   16.478409     61.203178\n",
      "std     21.813436   23.233826    908.105004\n",
      "min      0.000000    0.000000      1.000000\n",
      "25%      3.000000    3.000000      8.000000\n",
      "50%      7.500000    9.000000     18.000000\n",
      "75%     17.000000   20.000000     37.000000\n",
      "max    214.000000  187.000000  26960.000000\n"
     ]
    }
   ],
   "source": [
    "# Mostrar estadísticas descriptivas del DataFrame 'Graduados-2023'\n",
    "print(\"Estadísticas descriptivas del DataFrame Graduados-2023:\")\n",
    "# Seleccionar las columnas 'Masculino', 'Femenino' y 'Total' para generar el resumen estadístico\n",
    "print(graduados_2023[[\"MASCULINO\", \"FEMENINO\", \"TOTAL\"]].describe())"
   ]
  },
  {
   "cell_type": "code",
   "execution_count": null,
   "id": "8053ae23-a78c-4c4b-b885-7136a7f8db15",
   "metadata": {},
   "outputs": [],
   "source": []
  }
 ],
 "metadata": {
  "kernelspec": {
   "display_name": "Python 3 (ipykernel)",
   "language": "python",
   "name": "python3"
  },
  "language_info": {
   "codemirror_mode": {
    "name": "ipython",
    "version": 3
   },
   "file_extension": ".py",
   "mimetype": "text/x-python",
   "name": "python",
   "nbconvert_exporter": "python",
   "pygments_lexer": "ipython3",
   "version": "3.12.4"
  }
 },
 "nbformat": 4,
 "nbformat_minor": 5
}
